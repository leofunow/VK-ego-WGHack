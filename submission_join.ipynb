{
 "cells": [
  {
   "cell_type": "code",
   "execution_count": 1,
   "metadata": {},
   "outputs": [],
   "source": [
    "import pandas as pd\n",
    "import numpy as np\n",
    "\n",
    "import matplotlib.pyplot as plt\n",
    "from sklearn.metrics import mean_squared_error"
   ]
  },
  {
   "cell_type": "code",
   "execution_count": 2,
   "metadata": {},
   "outputs": [],
   "source": [
    "submissson = pd.read_csv('submission.csv')"
   ]
  },
  {
   "cell_type": "code",
   "execution_count": 3,
   "metadata": {},
   "outputs": [],
   "source": [
    "from preprocess import preprocess"
   ]
  },
  {
   "cell_type": "code",
   "execution_count": 4,
   "metadata": {},
   "outputs": [],
   "source": [
    "test, colnames = preprocess(\"test.csv\")"
   ]
  },
  {
   "cell_type": "code",
   "execution_count": 5,
   "metadata": {},
   "outputs": [
    {
     "data": {
      "text/html": [
       "<div>\n",
       "<style scoped>\n",
       "    .dataframe tbody tr th:only-of-type {\n",
       "        vertical-align: middle;\n",
       "    }\n",
       "\n",
       "    .dataframe tbody tr th {\n",
       "        vertical-align: top;\n",
       "    }\n",
       "\n",
       "    .dataframe thead th {\n",
       "        text-align: right;\n",
       "    }\n",
       "</style>\n",
       "<table border=\"1\" class=\"dataframe\">\n",
       "  <thead>\n",
       "    <tr style=\"text-align: right;\">\n",
       "      <th></th>\n",
       "      <th>ego_id</th>\n",
       "      <th>u</th>\n",
       "      <th>v</th>\n",
       "      <th>t</th>\n",
       "      <th>x1</th>\n",
       "      <th>x2</th>\n",
       "      <th>x3</th>\n",
       "      <th>city_dist</th>\n",
       "      <th>university_dist</th>\n",
       "      <th>sex</th>\n",
       "      <th>...</th>\n",
       "      <th>gen_1</th>\n",
       "      <th>sex2_0</th>\n",
       "      <th>sex2_1</th>\n",
       "      <th>sex2_2</th>\n",
       "      <th>city_0</th>\n",
       "      <th>city_1</th>\n",
       "      <th>city_2</th>\n",
       "      <th>university_0</th>\n",
       "      <th>university_1</th>\n",
       "      <th>university_2</th>\n",
       "    </tr>\n",
       "  </thead>\n",
       "  <tbody>\n",
       "    <tr>\n",
       "      <th>0</th>\n",
       "      <td>8</td>\n",
       "      <td>20</td>\n",
       "      <td>19</td>\n",
       "      <td>185.7</td>\n",
       "      <td>3.839089e-04</td>\n",
       "      <td>0.0</td>\n",
       "      <td>0.0</td>\n",
       "      <td>0</td>\n",
       "      <td>284912378</td>\n",
       "      <td>0</td>\n",
       "      <td>...</td>\n",
       "      <td>True</td>\n",
       "      <td>False</td>\n",
       "      <td>False</td>\n",
       "      <td>True</td>\n",
       "      <td>False</td>\n",
       "      <td>False</td>\n",
       "      <td>True</td>\n",
       "      <td>True</td>\n",
       "      <td>False</td>\n",
       "      <td>False</td>\n",
       "    </tr>\n",
       "    <tr>\n",
       "      <th>1</th>\n",
       "      <td>8</td>\n",
       "      <td>10</td>\n",
       "      <td>19</td>\n",
       "      <td>158.3</td>\n",
       "      <td>1.046045e+00</td>\n",
       "      <td>0.0</td>\n",
       "      <td>0.0</td>\n",
       "      <td>0</td>\n",
       "      <td>-1</td>\n",
       "      <td>0</td>\n",
       "      <td>...</td>\n",
       "      <td>False</td>\n",
       "      <td>False</td>\n",
       "      <td>False</td>\n",
       "      <td>True</td>\n",
       "      <td>False</td>\n",
       "      <td>False</td>\n",
       "      <td>True</td>\n",
       "      <td>True</td>\n",
       "      <td>False</td>\n",
       "      <td>False</td>\n",
       "    </tr>\n",
       "    <tr>\n",
       "      <th>2</th>\n",
       "      <td>8</td>\n",
       "      <td>2</td>\n",
       "      <td>19</td>\n",
       "      <td>594.5</td>\n",
       "      <td>7.529229e-01</td>\n",
       "      <td>0.0</td>\n",
       "      <td>0.0</td>\n",
       "      <td>0</td>\n",
       "      <td>188425734</td>\n",
       "      <td>0</td>\n",
       "      <td>...</td>\n",
       "      <td>True</td>\n",
       "      <td>False</td>\n",
       "      <td>False</td>\n",
       "      <td>True</td>\n",
       "      <td>False</td>\n",
       "      <td>False</td>\n",
       "      <td>True</td>\n",
       "      <td>True</td>\n",
       "      <td>False</td>\n",
       "      <td>False</td>\n",
       "    </tr>\n",
       "    <tr>\n",
       "      <th>3</th>\n",
       "      <td>8</td>\n",
       "      <td>8</td>\n",
       "      <td>19</td>\n",
       "      <td>NaN</td>\n",
       "      <td>1.751368e-06</td>\n",
       "      <td>0.0</td>\n",
       "      <td>0.0</td>\n",
       "      <td>-1</td>\n",
       "      <td>-1</td>\n",
       "      <td>1</td>\n",
       "      <td>...</td>\n",
       "      <td>False</td>\n",
       "      <td>True</td>\n",
       "      <td>False</td>\n",
       "      <td>False</td>\n",
       "      <td>True</td>\n",
       "      <td>False</td>\n",
       "      <td>False</td>\n",
       "      <td>True</td>\n",
       "      <td>False</td>\n",
       "      <td>False</td>\n",
       "    </tr>\n",
       "    <tr>\n",
       "      <th>4</th>\n",
       "      <td>8</td>\n",
       "      <td>20</td>\n",
       "      <td>2</td>\n",
       "      <td>164.1</td>\n",
       "      <td>3.034230e-13</td>\n",
       "      <td>0.0</td>\n",
       "      <td>0.0</td>\n",
       "      <td>0</td>\n",
       "      <td>473338112</td>\n",
       "      <td>0</td>\n",
       "      <td>...</td>\n",
       "      <td>True</td>\n",
       "      <td>False</td>\n",
       "      <td>False</td>\n",
       "      <td>True</td>\n",
       "      <td>False</td>\n",
       "      <td>False</td>\n",
       "      <td>True</td>\n",
       "      <td>True</td>\n",
       "      <td>False</td>\n",
       "      <td>False</td>\n",
       "    </tr>\n",
       "  </tbody>\n",
       "</table>\n",
       "<p>5 rows × 27 columns</p>\n",
       "</div>"
      ],
      "text/plain": [
       "   ego_id   u   v      t            x1   x2   x3  city_dist  university_dist   \n",
       "0       8  20  19  185.7  3.839089e-04  0.0  0.0          0        284912378  \\\n",
       "1       8  10  19  158.3  1.046045e+00  0.0  0.0          0               -1   \n",
       "2       8   2  19  594.5  7.529229e-01  0.0  0.0          0        188425734   \n",
       "3       8   8  19    NaN  1.751368e-06  0.0  0.0         -1               -1   \n",
       "4       8  20   2  164.1  3.034230e-13  0.0  0.0          0        473338112   \n",
       "\n",
       "   sex  ...  gen_1  sex2_0  sex2_1  sex2_2  city_0  city_1  city_2   \n",
       "0    0  ...   True   False   False    True   False   False    True  \\\n",
       "1    0  ...  False   False   False    True   False   False    True   \n",
       "2    0  ...   True   False   False    True   False   False    True   \n",
       "3    1  ...  False    True   False   False    True   False   False   \n",
       "4    0  ...   True   False   False    True   False   False    True   \n",
       "\n",
       "   university_0  university_1  university_2  \n",
       "0          True         False         False  \n",
       "1          True         False         False  \n",
       "2          True         False         False  \n",
       "3          True         False         False  \n",
       "4          True         False         False  \n",
       "\n",
       "[5 rows x 27 columns]"
      ]
     },
     "execution_count": 5,
     "metadata": {},
     "output_type": "execute_result"
    }
   ],
   "source": [
    "test.head()"
   ]
  },
  {
   "cell_type": "code",
   "execution_count": 6,
   "metadata": {},
   "outputs": [
    {
     "data": {
      "text/plain": [
       "Index(['x2', 'x3', 'city_dist', 'university_dist', 'sex', 'school_dist',\n",
       "       'age_dist', 'age_mean', 'school', 'sum', 'u_v', 'gen_0', 'gen_1',\n",
       "       'sex2_0', 'sex2_1', 'sex2_2', 'city_0', 'city_1', 'city_2',\n",
       "       'university_0', 'university_1', 'university_2'],\n",
       "      dtype='object')"
      ]
     },
     "execution_count": 6,
     "metadata": {},
     "output_type": "execute_result"
    }
   ],
   "source": [
    "colnames"
   ]
  },
  {
   "cell_type": "code",
   "execution_count": 7,
   "metadata": {},
   "outputs": [],
   "source": [
    "import pickle"
   ]
  },
  {
   "cell_type": "code",
   "execution_count": 8,
   "metadata": {},
   "outputs": [],
   "source": [
    "# Загрузка модели\n",
    "with open ('random_forest.pkl', 'rb') as f:\n",
    "    myModel = pickle.load(f)"
   ]
  },
  {
   "cell_type": "code",
   "execution_count": 9,
   "metadata": {},
   "outputs": [],
   "source": [
    "with open('catboost_full_model.pkl', 'rb') as f:\n",
    "    cb = pickle.load(f)"
   ]
  },
  {
   "cell_type": "code",
   "execution_count": 10,
   "metadata": {},
   "outputs": [
    {
     "name": "stderr",
     "output_type": "stream",
     "text": [
      "C:\\Users\\Lev\\AppData\\Local\\Packages\\PythonSoftwareFoundation.Python.3.10_qbz5n2kfra8p0\\LocalCache\\local-packages\\Python310\\site-packages\\sklearn\\base.py:318: UserWarning: Trying to unpickle estimator LinearRegression from version 1.0.2 when using version 1.2.2. This might lead to breaking code or invalid results. Use at your own risk. For more info please refer to:\n",
      "https://scikit-learn.org/stable/model_persistence.html#security-maintainability-limitations\n",
      "  warnings.warn(\n"
     ]
    }
   ],
   "source": [
    "with open('line_reg_model.pkl', 'rb') as f:\n",
    "    lin_reg = pickle.load(f)"
   ]
  },
  {
   "cell_type": "code",
   "execution_count": null,
   "metadata": {},
   "outputs": [],
   "source": []
  },
  {
   "cell_type": "code",
   "execution_count": 11,
   "metadata": {},
   "outputs": [],
   "source": [
    "from config import *\n",
    "from modelerWG import predict, rmse\n",
    "\n",
    "fores_pred = predict(test, myModel, colnames=colnames)\n",
    "cb_pred = predict(test, cb, colnames=colnames)"
   ]
  },
  {
   "cell_type": "code",
   "execution_count": 12,
   "metadata": {},
   "outputs": [],
   "source": [
    "learn = pd.DataFrame({'forest':fores_pred, 'cb':cb_pred})"
   ]
  },
  {
   "cell_type": "code",
   "execution_count": 13,
   "metadata": {},
   "outputs": [],
   "source": [
    "from sklearn.preprocessing import PolynomialFeatures\n",
    "poly = PolynomialFeatures(degree=3, include_bias=False)\n",
    "poly_features = poly.fit_transform(learn)"
   ]
  },
  {
   "cell_type": "code",
   "execution_count": 23,
   "metadata": {},
   "outputs": [
    {
     "data": {
      "text/plain": [
       "(9, 34678164)"
      ]
     },
     "execution_count": 23,
     "metadata": {},
     "output_type": "execute_result"
    }
   ],
   "source": [
    "poly_features.reshape(9, -1).shape"
   ]
  },
  {
   "cell_type": "code",
   "execution_count": 26,
   "metadata": {},
   "outputs": [],
   "source": [
    "preds_randmforest = predict(pd.DataFrame(poly_features), lin_reg, colnames=pd.DataFrame(poly_features).columns)"
   ]
  },
  {
   "cell_type": "code",
   "execution_count": 27,
   "metadata": {},
   "outputs": [],
   "source": [
    "test[\"preds\"] = preds_randmforest"
   ]
  },
  {
   "cell_type": "code",
   "execution_count": 33,
   "metadata": {},
   "outputs": [],
   "source": [
    "# Соединение Submission и Test\n",
    "res = submissson.merge(test, on=[\"ego_id\", \"u\", \"v\"], how=\"inner\")"
   ]
  },
  {
   "cell_type": "code",
   "execution_count": null,
   "metadata": {},
   "outputs": [],
   "source": []
  },
  {
   "cell_type": "code",
   "execution_count": 34,
   "metadata": {},
   "outputs": [],
   "source": [
    "# Вывод только нужного\n",
    "res = res[['ego_id',\"u\",\"v\", \"preds\", \"x1_x\"]]"
   ]
  },
  {
   "cell_type": "code",
   "execution_count": null,
   "metadata": {},
   "outputs": [],
   "source": [
    "res.to_csv('submission2.csv', index = False)"
   ]
  },
  {
   "cell_type": "code",
   "execution_count": 36,
   "metadata": {},
   "outputs": [
    {
     "data": {
      "text/html": [
       "<div>\n",
       "<style scoped>\n",
       "    .dataframe tbody tr th:only-of-type {\n",
       "        vertical-align: middle;\n",
       "    }\n",
       "\n",
       "    .dataframe tbody tr th {\n",
       "        vertical-align: top;\n",
       "    }\n",
       "\n",
       "    .dataframe thead th {\n",
       "        text-align: right;\n",
       "    }\n",
       "</style>\n",
       "<table border=\"1\" class=\"dataframe\">\n",
       "  <thead>\n",
       "    <tr style=\"text-align: right;\">\n",
       "      <th></th>\n",
       "      <th>ego_id</th>\n",
       "      <th>u</th>\n",
       "      <th>v</th>\n",
       "      <th>preds</th>\n",
       "      <th>x1_x</th>\n",
       "    </tr>\n",
       "  </thead>\n",
       "  <tbody>\n",
       "    <tr>\n",
       "      <th>0</th>\n",
       "      <td>8</td>\n",
       "      <td>0</td>\n",
       "      <td>93</td>\n",
       "      <td>0.019135</td>\n",
       "      <td>0.000000</td>\n",
       "    </tr>\n",
       "    <tr>\n",
       "      <th>1</th>\n",
       "      <td>8</td>\n",
       "      <td>0</td>\n",
       "      <td>143</td>\n",
       "      <td>0.156375</td>\n",
       "      <td>0.000000</td>\n",
       "    </tr>\n",
       "    <tr>\n",
       "      <th>2</th>\n",
       "      <td>8</td>\n",
       "      <td>0</td>\n",
       "      <td>151</td>\n",
       "      <td>1.551773</td>\n",
       "      <td>1.606742</td>\n",
       "    </tr>\n",
       "    <tr>\n",
       "      <th>3</th>\n",
       "      <td>8</td>\n",
       "      <td>1</td>\n",
       "      <td>24</td>\n",
       "      <td>0.300220</td>\n",
       "      <td>0.026496</td>\n",
       "    </tr>\n",
       "    <tr>\n",
       "      <th>4</th>\n",
       "      <td>8</td>\n",
       "      <td>5</td>\n",
       "      <td>4</td>\n",
       "      <td>0.505534</td>\n",
       "      <td>0.159857</td>\n",
       "    </tr>\n",
       "    <tr>\n",
       "      <th>...</th>\n",
       "      <td>...</td>\n",
       "      <td>...</td>\n",
       "      <td>...</td>\n",
       "      <td>...</td>\n",
       "      <td>...</td>\n",
       "    </tr>\n",
       "    <tr>\n",
       "      <th>693927</th>\n",
       "      <td>1709396984676</td>\n",
       "      <td>73</td>\n",
       "      <td>23</td>\n",
       "      <td>1.281413</td>\n",
       "      <td>1.562170</td>\n",
       "    </tr>\n",
       "    <tr>\n",
       "      <th>693928</th>\n",
       "      <td>1709396984676</td>\n",
       "      <td>74</td>\n",
       "      <td>68</td>\n",
       "      <td>0.566864</td>\n",
       "      <td>0.454210</td>\n",
       "    </tr>\n",
       "    <tr>\n",
       "      <th>693929</th>\n",
       "      <td>1709396984676</td>\n",
       "      <td>77</td>\n",
       "      <td>28</td>\n",
       "      <td>1.213811</td>\n",
       "      <td>0.078504</td>\n",
       "    </tr>\n",
       "    <tr>\n",
       "      <th>693930</th>\n",
       "      <td>1709396984676</td>\n",
       "      <td>79</td>\n",
       "      <td>38</td>\n",
       "      <td>0.956417</td>\n",
       "      <td>0.981812</td>\n",
       "    </tr>\n",
       "    <tr>\n",
       "      <th>693931</th>\n",
       "      <td>1709396984676</td>\n",
       "      <td>81</td>\n",
       "      <td>92</td>\n",
       "      <td>1.991109</td>\n",
       "      <td>3.417851</td>\n",
       "    </tr>\n",
       "  </tbody>\n",
       "</table>\n",
       "<p>693932 rows × 5 columns</p>\n",
       "</div>"
      ],
      "text/plain": [
       "               ego_id   u    v     preds      x1_x\n",
       "0                   8   0   93  0.019135  0.000000\n",
       "1                   8   0  143  0.156375  0.000000\n",
       "2                   8   0  151  1.551773  1.606742\n",
       "3                   8   1   24  0.300220  0.026496\n",
       "4                   8   5    4  0.505534  0.159857\n",
       "...               ...  ..  ...       ...       ...\n",
       "693927  1709396984676  73   23  1.281413  1.562170\n",
       "693928  1709396984676  74   68  0.566864  0.454210\n",
       "693929  1709396984676  77   28  1.213811  0.078504\n",
       "693930  1709396984676  79   38  0.956417  0.981812\n",
       "693931  1709396984676  81   92  1.991109  3.417851\n",
       "\n",
       "[693932 rows x 5 columns]"
      ]
     },
     "execution_count": 36,
     "metadata": {},
     "output_type": "execute_result"
    }
   ],
   "source": [
    "res"
   ]
  },
  {
   "cell_type": "code",
   "execution_count": 37,
   "metadata": {},
   "outputs": [
    {
     "data": {
      "text/plain": [
       "1.2972360479346356"
      ]
     },
     "execution_count": 37,
     "metadata": {},
     "output_type": "execute_result"
    }
   ],
   "source": [
    "from sklearn.metrics import mean_squared_error\n",
    "mean_squared_error(res['x1_x'], res['preds'], squared=False)"
   ]
  }
 ],
 "metadata": {
  "kernelspec": {
   "display_name": "Python 3 (ipykernel)",
   "language": "python",
   "name": "python3"
  },
  "language_info": {
   "codemirror_mode": {
    "name": "ipython",
    "version": 3
   },
   "file_extension": ".py",
   "mimetype": "text/x-python",
   "name": "python",
   "nbconvert_exporter": "python",
   "pygments_lexer": "ipython3",
   "version": "3.10.11"
  }
 },
 "nbformat": 4,
 "nbformat_minor": 2
}
