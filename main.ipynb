{
 "cells": [
  {
   "cell_type": "code",
   "execution_count": 5,
   "metadata": {},
   "outputs": [],
   "source": [
    "import pandas as pd\n",
    "import numpy as np\n",
    "import config\n",
    "from preprocess import preprocess\n",
    "import modelerWG"
   ]
  },
  {
   "cell_type": "code",
   "execution_count": 9,
   "metadata": {},
   "outputs": [],
   "source": [
    "df_name = \"train_subset_2.csv\"\n",
    "df, colnames = preprocess(df_name)"
   ]
  },
  {
   "cell_type": "code",
   "execution_count": 10,
   "metadata": {},
   "outputs": [
    {
     "data": {
      "text/plain": [
       "Index(['ego_id', 'sum', 'u', 'v', 't', 'x1', 'x2', 'x3', 'city_dist',\n",
       "       'university_dist', 'sex', 'school_dist', 'age_dist', 'age_mean',\n",
       "       'school', 'u_v', 'gen_0', 'gen_1', 'sex2_0', 'sex2_1', 'sex2_2',\n",
       "       'city_0', 'city_1', 'city_2', 'university_0', 'university_1',\n",
       "       'university_2'],\n",
       "      dtype='object')"
      ]
     },
     "execution_count": 10,
     "metadata": {},
     "output_type": "execute_result"
    }
   ],
   "source": [
    "df.dropna(subset=\"x1\", inplace=True)\n",
    "df.columns"
   ]
  },
  {
   "cell_type": "code",
   "execution_count": 11,
   "metadata": {},
   "outputs": [],
   "source": [
    "rgrs = modelerWG.fit(df, colnames=colnames)"
   ]
  },
  {
   "cell_type": "code",
   "execution_count": 4,
   "metadata": {},
   "outputs": [],
   "source": [
    "# # импорт модели\n",
    "# rgrs = modelerWG.import_p('model2.pkl')"
   ]
  },
  {
   "cell_type": "code",
   "execution_count": 6,
   "metadata": {},
   "outputs": [
    {
     "name": "stdout",
     "output_type": "stream",
     "text": [
      "['x2', 'x3', 'city_dist', 'university_dist', 'sex', 'school_dist', 'age_dist', 'age_mean', 'sex2', 'city', 'university', 'school', 'gen', 'u_v']\n"
     ]
    }
   ],
   "source": [
    "pred=modelerWG.predict(df, rgrs)"
   ]
  },
  {
   "cell_type": "code",
   "execution_count": 7,
   "metadata": {},
   "outputs": [
    {
     "data": {
      "text/plain": [
       "1.0081620101115052"
      ]
     },
     "execution_count": 7,
     "metadata": {},
     "output_type": "execute_result"
    }
   ],
   "source": [
    "modelerWG.rmse(df, pred)"
   ]
  },
  {
   "cell_type": "code",
   "execution_count": 12,
   "metadata": {},
   "outputs": [],
   "source": [
    "# # экспорт модели\n",
    "# modelerWG.export_p('model_test.pkl', rgrs)"
   ]
  }
 ],
 "metadata": {
  "kernelspec": {
   "display_name": "Python 3 (ipykernel)",
   "language": "python",
   "name": "python3"
  },
  "language_info": {
   "codemirror_mode": {
    "name": "ipython",
    "version": 3
   },
   "file_extension": ".py",
   "mimetype": "text/x-python",
   "name": "python",
   "nbconvert_exporter": "python",
   "pygments_lexer": "ipython3",
   "version": "3.10.9"
  }
 },
 "nbformat": 4,
 "nbformat_minor": 2
}
