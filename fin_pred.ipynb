{
 "cells": [
  {
   "cell_type": "code",
   "execution_count": null,
   "id": "b8d6cc83",
   "metadata": {},
   "outputs": [],
   "source": [
    "import pandas as pd\n",
    "import pickle\n",
    "from preprocess import preprocess"
   ]
  },
  {
   "cell_type": "code",
   "execution_count": null,
   "id": "5af64d34",
   "metadata": {},
   "outputs": [],
   "source": [
    "df = pd.read_csv('train.csv')\n",
    "colnames = df.columns[4:]\n",
    "df = df[colnames]"
   ]
  },
  {
   "cell_type": "code",
   "execution_count": null,
   "id": "f119bf6b",
   "metadata": {},
   "outputs": [],
   "source": [
    "with open('random_forest.pkl', 'rb') as f:\n",
    "    forest = pickle.load(f)"
   ]
  },
  {
   "cell_type": "code",
   "execution_count": null,
   "id": "dfcd0a70",
   "metadata": {},
   "outputs": [],
   "source": [
    "with open('catboost_full_model.pkl', 'rb') as f:\n",
    "    cb = pickle.load(f)"
   ]
  },
  {
   "cell_type": "code",
   "execution_count": null,
   "id": "49fa6475",
   "metadata": {},
   "outputs": [],
   "source": [
    "fores_pred = forest.predict(df[colnames[1:]])"
   ]
  },
  {
   "cell_type": "code",
   "execution_count": null,
   "id": "85a5c326",
   "metadata": {},
   "outputs": [],
   "source": [
    "cb_pred = cb.predict(df[colnames[1:]])"
   ]
  },
  {
   "cell_type": "code",
   "execution_count": null,
   "id": "30f6f984",
   "metadata": {},
   "outputs": [],
   "source": []
  },
  {
   "cell_type": "code",
   "execution_count": null,
   "id": "08e690de",
   "metadata": {},
   "outputs": [],
   "source": [
    "from sklearn.metrics import mean_squared_error\n",
    "import math\n",
    "math.sqrt(mean_squared_error(df['x1'], fores_pred)), math.sqrt(mean_squared_error(df['x1'], cb_pred))"
   ]
  },
  {
   "cell_type": "code",
   "execution_count": null,
   "id": "f60549d0",
   "metadata": {},
   "outputs": [],
   "source": [
    "from sklearn.linear_model import LinearRegression"
   ]
  },
  {
   "cell_type": "code",
   "execution_count": null,
   "id": "27944615",
   "metadata": {},
   "outputs": [],
   "source": [
    "learn = pd.DataFrame({'forest':fores_pred, 'cb':cb_pred})\n",
    "learn"
   ]
  },
  {
   "cell_type": "code",
   "execution_count": null,
   "id": "fad02790",
   "metadata": {},
   "outputs": [],
   "source": []
  },
  {
   "cell_type": "code",
   "execution_count": null,
   "id": "5147fb2c",
   "metadata": {},
   "outputs": [],
   "source": [
    "from sklearn.preprocessing import PolynomialFeatures\n",
    "poly = PolynomialFeatures(degree=3, include_bias=False)"
   ]
  },
  {
   "cell_type": "code",
   "execution_count": null,
   "id": "b17b9ade",
   "metadata": {},
   "outputs": [],
   "source": [
    "poly_features = poly.fit_transform(learn)"
   ]
  },
  {
   "cell_type": "code",
   "execution_count": null,
   "id": "a74eed71",
   "metadata": {},
   "outputs": [],
   "source": [
    "reg = LinearRegression().fit(poly_features, df['x1'])"
   ]
  },
  {
   "cell_type": "code",
   "execution_count": null,
   "id": "e45339d7",
   "metadata": {},
   "outputs": [],
   "source": [
    "preds = reg.predict(poly_features)"
   ]
  },
  {
   "cell_type": "code",
   "execution_count": null,
   "id": "7b0feedb",
   "metadata": {},
   "outputs": [],
   "source": [
    "math.sqrt(mean_squared_error(df['x1'], preds))"
   ]
  },
  {
   "cell_type": "code",
   "execution_count": null,
   "id": "d3f1330e",
   "metadata": {},
   "outputs": [],
   "source": [
    "with open('line_reg_model.pkl', 'wb') as fid:\n",
    "    pickle.dump(reg, fid)   "
   ]
  },
  {
   "cell_type": "code",
   "execution_count": null,
   "id": "d2b99f8c",
   "metadata": {},
   "outputs": [],
   "source": []
  },
  {
   "cell_type": "code",
   "execution_count": null,
   "id": "552e9f2c",
   "metadata": {},
   "outputs": [],
   "source": []
  },
  {
   "cell_type": "code",
   "execution_count": null,
   "id": "1e447d58",
   "metadata": {},
   "outputs": [],
   "source": []
  }
 ],
 "metadata": {
  "kernelspec": {
   "display_name": "Python 3 (ipykernel)",
   "language": "python",
   "name": "python3"
  },
  "language_info": {
   "codemirror_mode": {
    "name": "ipython",
    "version": 3
   },
   "file_extension": ".py",
   "mimetype": "text/x-python",
   "name": "python",
   "nbconvert_exporter": "python",
   "pygments_lexer": "ipython3",
   "version": "3.10.11"
  }
 },
 "nbformat": 4,
 "nbformat_minor": 5
}
