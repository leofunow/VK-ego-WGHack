{
 "cells": [
  {
   "cell_type": "code",
   "execution_count": 5,
   "id": "b8d6cc83",
   "metadata": {},
   "outputs": [],
   "source": [
    "import pandas as pd\n",
    "import pickle"
   ]
  },
  {
   "cell_type": "code",
   "execution_count": 6,
   "id": "8c9fa63e",
   "metadata": {},
   "outputs": [],
   "source": [
    "df = pd.read_csv('train.csv.csv')\n",
    "colnames = df.columns[4:]\n",
    "df = df[colnames]"
   ]
  },
  {
   "cell_type": "code",
   "execution_count": 8,
   "id": "f119bf6b",
   "metadata": {},
   "outputs": [
    {
     "name": "stderr",
     "output_type": "stream",
     "text": [
      "C:\\Users\\Dasha\\anaconda3\\lib\\site-packages\\sklearn\\base.py:329: UserWarning: Trying to unpickle estimator DecisionTreeRegressor from version 1.2.2 when using version 1.0.2. This might lead to breaking code or invalid results. Use at your own risk. For more info please refer to:\n",
      "https://scikit-learn.org/stable/modules/model_persistence.html#security-maintainability-limitations\n",
      "  warnings.warn(\n",
      "C:\\Users\\Dasha\\anaconda3\\lib\\site-packages\\sklearn\\base.py:329: UserWarning: Trying to unpickle estimator RandomForestRegressor from version 1.2.2 when using version 1.0.2. This might lead to breaking code or invalid results. Use at your own risk. For more info please refer to:\n",
      "https://scikit-learn.org/stable/modules/model_persistence.html#security-maintainability-limitations\n",
      "  warnings.warn(\n"
     ]
    }
   ],
   "source": [
    "with open('model_fin2.pkl', 'rb') as f:\n",
    "    forest = pickle.load(f)"
   ]
  },
  {
   "cell_type": "code",
   "execution_count": 9,
   "id": "dfcd0a70",
   "metadata": {},
   "outputs": [],
   "source": [
    "with open('catboost_full_model.pkl', 'rb') as f:\n",
    "    cb = pickle.load(f)"
   ]
  },
  {
   "cell_type": "code",
   "execution_count": 10,
   "id": "49fa6475",
   "metadata": {},
   "outputs": [],
   "source": [
    "fores_pred = forest.predict(df[colnames[1:]])"
   ]
  },
  {
   "cell_type": "code",
   "execution_count": 11,
   "id": "85a5c326",
   "metadata": {},
   "outputs": [],
   "source": [
    "cb_pred = cb.predict(df[colnames[1:]])"
   ]
  },
  {
   "cell_type": "code",
   "execution_count": null,
   "id": "30f6f984",
   "metadata": {},
   "outputs": [],
   "source": []
  },
  {
   "cell_type": "code",
   "execution_count": 12,
   "id": "08e690de",
   "metadata": {},
   "outputs": [
    {
     "data": {
      "text/plain": [
       "(1.0075395668529548, 1.0041457461118342)"
      ]
     },
     "execution_count": 12,
     "metadata": {},
     "output_type": "execute_result"
    }
   ],
   "source": [
    "from sklearn.metrics import mean_squared_error\n",
    "import math\n",
    "math.sqrt(mean_squared_error(df['x1'], fores_pred)), math.sqrt(mean_squared_error(df['x1'], cb_pred))"
   ]
  },
  {
   "cell_type": "code",
   "execution_count": 13,
   "id": "f60549d0",
   "metadata": {},
   "outputs": [],
   "source": [
    "from sklearn.linear_model import LinearRegression"
   ]
  },
  {
   "cell_type": "code",
   "execution_count": 14,
   "id": "27944615",
   "metadata": {},
   "outputs": [
    {
     "data": {
      "text/html": [
       "<div>\n",
       "<style scoped>\n",
       "    .dataframe tbody tr th:only-of-type {\n",
       "        vertical-align: middle;\n",
       "    }\n",
       "\n",
       "    .dataframe tbody tr th {\n",
       "        vertical-align: top;\n",
       "    }\n",
       "\n",
       "    .dataframe thead th {\n",
       "        text-align: right;\n",
       "    }\n",
       "</style>\n",
       "<table border=\"1\" class=\"dataframe\">\n",
       "  <thead>\n",
       "    <tr style=\"text-align: right;\">\n",
       "      <th></th>\n",
       "      <th>forest</th>\n",
       "      <th>cb</th>\n",
       "    </tr>\n",
       "  </thead>\n",
       "  <tbody>\n",
       "    <tr>\n",
       "      <th>0</th>\n",
       "      <td>0.373477</td>\n",
       "      <td>0.386980</td>\n",
       "    </tr>\n",
       "    <tr>\n",
       "      <th>1</th>\n",
       "      <td>0.273438</td>\n",
       "      <td>0.517534</td>\n",
       "    </tr>\n",
       "    <tr>\n",
       "      <th>2</th>\n",
       "      <td>0.373477</td>\n",
       "      <td>0.386980</td>\n",
       "    </tr>\n",
       "    <tr>\n",
       "      <th>3</th>\n",
       "      <td>0.476123</td>\n",
       "      <td>0.518633</td>\n",
       "    </tr>\n",
       "    <tr>\n",
       "      <th>4</th>\n",
       "      <td>0.373477</td>\n",
       "      <td>0.386980</td>\n",
       "    </tr>\n",
       "    <tr>\n",
       "      <th>...</th>\n",
       "      <td>...</td>\n",
       "      <td>...</td>\n",
       "    </tr>\n",
       "    <tr>\n",
       "      <th>27741740</th>\n",
       "      <td>0.748413</td>\n",
       "      <td>0.806228</td>\n",
       "    </tr>\n",
       "    <tr>\n",
       "      <th>27741741</th>\n",
       "      <td>0.623399</td>\n",
       "      <td>0.635414</td>\n",
       "    </tr>\n",
       "    <tr>\n",
       "      <th>27741742</th>\n",
       "      <td>0.527724</td>\n",
       "      <td>0.557657</td>\n",
       "    </tr>\n",
       "    <tr>\n",
       "      <th>27741743</th>\n",
       "      <td>1.839925</td>\n",
       "      <td>2.018774</td>\n",
       "    </tr>\n",
       "    <tr>\n",
       "      <th>27741744</th>\n",
       "      <td>0.476123</td>\n",
       "      <td>0.487610</td>\n",
       "    </tr>\n",
       "  </tbody>\n",
       "</table>\n",
       "<p>27741745 rows × 2 columns</p>\n",
       "</div>"
      ],
      "text/plain": [
       "            forest        cb\n",
       "0         0.373477  0.386980\n",
       "1         0.273438  0.517534\n",
       "2         0.373477  0.386980\n",
       "3         0.476123  0.518633\n",
       "4         0.373477  0.386980\n",
       "...            ...       ...\n",
       "27741740  0.748413  0.806228\n",
       "27741741  0.623399  0.635414\n",
       "27741742  0.527724  0.557657\n",
       "27741743  1.839925  2.018774\n",
       "27741744  0.476123  0.487610\n",
       "\n",
       "[27741745 rows x 2 columns]"
      ]
     },
     "execution_count": 14,
     "metadata": {},
     "output_type": "execute_result"
    }
   ],
   "source": [
    "learn = pd.DataFrame({'forest':fores_pred, 'cb':cb_pred})\n",
    "learn"
   ]
  },
  {
   "cell_type": "code",
   "execution_count": null,
   "id": "fad02790",
   "metadata": {},
   "outputs": [],
   "source": []
  },
  {
   "cell_type": "code",
   "execution_count": 15,
   "id": "5147fb2c",
   "metadata": {},
   "outputs": [],
   "source": [
    "from sklearn.preprocessing import PolynomialFeatures\n",
    "poly = PolynomialFeatures(degree=3, include_bias=False)"
   ]
  },
  {
   "cell_type": "code",
   "execution_count": 16,
   "id": "b17b9ade",
   "metadata": {},
   "outputs": [],
   "source": [
    "poly_features = poly.fit_transform(learn)"
   ]
  },
  {
   "cell_type": "code",
   "execution_count": 17,
   "id": "a74eed71",
   "metadata": {},
   "outputs": [],
   "source": [
    "reg = LinearRegression().fit(poly_features, df['x1'])"
   ]
  },
  {
   "cell_type": "code",
   "execution_count": 18,
   "id": "e45339d7",
   "metadata": {},
   "outputs": [],
   "source": [
    "preds = reg.predict(poly_features)"
   ]
  },
  {
   "cell_type": "code",
   "execution_count": 19,
   "id": "7b0feedb",
   "metadata": {},
   "outputs": [
    {
     "data": {
      "text/plain": [
       "1.0007408575027144"
      ]
     },
     "execution_count": 19,
     "metadata": {},
     "output_type": "execute_result"
    }
   ],
   "source": [
    "math.sqrt(mean_squared_error(df['x1'], preds))"
   ]
  },
  {
   "cell_type": "code",
   "execution_count": 20,
   "id": "d3f1330e",
   "metadata": {},
   "outputs": [],
   "source": [
    "with open('line_reg_model.pkl', 'wb') as fid:\n",
    "    pickle.dump(reg, fid)   "
   ]
  },
  {
   "cell_type": "code",
   "execution_count": null,
   "id": "d2b99f8c",
   "metadata": {},
   "outputs": [],
   "source": []
  },
  {
   "cell_type": "code",
   "execution_count": null,
   "id": "552e9f2c",
   "metadata": {},
   "outputs": [],
   "source": []
  },
  {
   "cell_type": "code",
   "execution_count": null,
   "id": "1e447d58",
   "metadata": {},
   "outputs": [],
   "source": []
  }
 ],
 "metadata": {
  "kernelspec": {
   "display_name": "Python 3 (ipykernel)",
   "language": "python",
   "name": "python3"
  },
  "language_info": {
   "codemirror_mode": {
    "name": "ipython",
    "version": 3
   },
   "file_extension": ".py",
   "mimetype": "text/x-python",
   "name": "python",
   "nbconvert_exporter": "python",
   "pygments_lexer": "ipython3",
   "version": "3.9.13"
  }
 },
 "nbformat": 4,
 "nbformat_minor": 5
}
