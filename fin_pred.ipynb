{
 "cells": [
  {
   "cell_type": "code",
   "execution_count": null,
   "id": "44f51d91",
   "metadata": {},
   "outputs": [],
   "source": [
    "import pandas as pd\n",
    "import pickle"
   ]
  },
  {
   "cell_type": "code",
   "execution_count": null,
   "id": "b17acbf1",
   "metadata": {},
   "outputs": [],
   "source": [
    "df = pd.read_csv('test.csv')\n",
    "df"
   ]
  },
  {
   "cell_type": "code",
   "execution_count": null,
   "id": "e0a86d49",
   "metadata": {},
   "outputs": [],
   "source": [
    "#df = df[df['x1'].isna()]"
   ]
  },
  {
   "cell_type": "code",
   "execution_count": null,
   "id": "db3a7ca5",
   "metadata": {},
   "outputs": [],
   "source": [
    "#df = df.drop(['sum'], axis =1)"
   ]
  },
  {
   "cell_type": "code",
   "execution_count": null,
   "id": "02896707",
   "metadata": {},
   "outputs": [],
   "source": [
    "with open('model_cb.pkl', 'rb') as f:\n",
    "    cb = pickle.load(f)"
   ]
  },
  {
   "cell_type": "code",
   "execution_count": null,
   "id": "52adb678",
   "metadata": {},
   "outputs": [],
   "source": [
    "with open('model_dum.pkl', 'rb') as f:\n",
    "    forest = pickle.load(f)"
   ]
  },
  {
   "cell_type": "code",
   "execution_count": null,
   "id": "9758481b",
   "metadata": {},
   "outputs": [],
   "source": [
    "with open('line_reg_model.pkl', 'rb') as f:\n",
    "    lin_reg = pickle.load(f)"
   ]
  },
  {
   "cell_type": "code",
   "execution_count": null,
   "id": "c2e9d28c",
   "metadata": {},
   "outputs": [],
   "source": [
    "fores_pred = forest.predict(df.drop(['x1', 'ego_id', 'u','v', 't' ], axis = 1))"
   ]
  },
  {
   "cell_type": "code",
   "execution_count": null,
   "id": "a0fc93b0",
   "metadata": {},
   "outputs": [],
   "source": [
    "cb_pred = cb.predict(df.drop(['x1', 'ego_id', 'u','v', 't' ], axis = 1))"
   ]
  },
  {
   "cell_type": "code",
   "execution_count": null,
   "id": "5b83cd64",
   "metadata": {},
   "outputs": [],
   "source": [
    "learn = pd.DataFrame({'forest':fores_pred, 'cb':cb_pred})\n",
    "learn"
   ]
  },
  {
   "cell_type": "code",
   "execution_count": null,
   "id": "0514529a",
   "metadata": {},
   "outputs": [],
   "source": [
    "from sklearn.preprocessing import PolynomialFeatures\n",
    "poly = PolynomialFeatures(degree=3, include_bias=False)\n",
    "poly_features = poly.fit_transform(learn)"
   ]
  },
  {
   "cell_type": "code",
   "execution_count": null,
   "id": "475afae9",
   "metadata": {},
   "outputs": [],
   "source": [
    "preds = lin_reg.predict(poly_features)"
   ]
  },
  {
   "cell_type": "code",
   "execution_count": null,
   "id": "0cf51e37",
   "metadata": {},
   "outputs": [],
   "source": []
  }
 ],
 "metadata": {
  "kernelspec": {
   "display_name": "Python 3 (ipykernel)",
   "language": "python",
   "name": "python3"
  },
  "language_info": {
   "codemirror_mode": {
    "name": "ipython",
    "version": 3
   },
   "file_extension": ".py",
   "mimetype": "text/x-python",
   "name": "python",
   "nbconvert_exporter": "python",
   "pygments_lexer": "ipython3",
   "version": "3.9.13"
  }
 },
 "nbformat": 4,
 "nbformat_minor": 5
}
